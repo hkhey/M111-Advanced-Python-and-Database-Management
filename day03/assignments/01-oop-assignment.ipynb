{
 "cells": [
  {
   "cell_type": "markdown",
   "metadata": {},
   "source": [
    "# Oriented Object Programming Exercices"
   ]
  },
  {
   "cell_type": "markdown",
   "metadata": {},
   "source": [
    "## Exercice 1:\n",
    "\n",
    "- consedering the following code\n",
    "\n",
    "```python\n",
    "import datetime # we will use this for date objects\n",
    "\n",
    "class Person:\n",
    "\n",
    "    def __init__(self, name, surname, birthdate, address, telephone, email):\n",
    "        self.name = name\n",
    "        self.surname = surname\n",
    "        self.birthdate = birthdate\n",
    "\n",
    "        self.address = address\n",
    "        self.telephone = telephone\n",
    "        self.email = email\n",
    "\n",
    "    def age(self):\n",
    "        today = datetime.date.today()\n",
    "        age = today.year - self.birthdate.year\n",
    "\n",
    "        if today < datetime.date(today.year, self.birthdate.month, self.birthdate.day):\n",
    "            age -= 1\n",
    "\n",
    "        return age\n",
    "\n",
    "person = Person(\n",
    "    \"Jane\",\n",
    "    \"Doe\",\n",
    "    datetime.date(1992, 3, 12), # year, month, day\n",
    "    \"No. 12 Short Street, Greenville\",\n",
    "    \"555 456 0987\",\n",
    "    \"jane.doe@example.com\"\n",
    ")\n",
    "\n",
    "print(person.name)\n",
    "print(person.email)\n",
    "print(person.age())\n",
    "```\n",
    "Explain what the following variables refer to, and their scope:\n",
    "1. Person\n",
    "2. person\n",
    "3. surname\n",
    "4. self\n",
    "5. age (the function name)\n",
    "6. age (the variable used inside the function)\n",
    "7. self.email\n",
    "8. person.email"
   ]
  },
  {
   "cell_type": "markdown",
   "metadata": {},
   "source": [
    "### write your answer here\n",
    "1.  Class\n",
    "2.  Object of the class person\n",
    "3.  Attribute\n",
    "4.  Instance of the class\n",
    "5.  Method\n",
    "6.  Variable\n",
    "7.  Instance attribute\n",
    "8.  Instance attribute value"
   ]
  },
  {
   "cell_type": "markdown",
   "metadata": {},
   "source": [
    "## Exercise 2 \n",
    "Create a Class with instance attributes. Write a Python program to create a Vehicle class with instance attributes: \n",
    " - max_speed\n",
    " - mileage "
   ]
  },
  {
   "cell_type": "code",
   "execution_count": 33,
   "metadata": {},
   "outputs": [
    {
     "name": "stdout",
     "output_type": "stream",
     "text": [
      "Max_speed vehicle :  120\n",
      "Mileage :  12\n"
     ]
    }
   ],
   "source": [
    "class Vehicle:\n",
    "    def __init__(self, max_speed, mileage):\n",
    "        self.max_speed = max_speed\n",
    "        self.mileage = mileage\n",
    "\n",
    "v = Vehicle(120,12)\n",
    "print(\"Max_speed vehicle : \",v.max_speed)\n",
    "print(\"Mileage : \",v.mileage)"
   ]
  },
  {
   "cell_type": "markdown",
   "metadata": {},
   "source": [
    "## Exercice 3\n",
    "\n",
    "Create a Vehicle class without any variables and methods "
   ]
  },
  {
   "cell_type": "code",
   "execution_count": 34,
   "metadata": {},
   "outputs": [],
   "source": [
    "class vehicle:\n",
    "    pass"
   ]
  },
  {
   "cell_type": "markdown",
   "metadata": {},
   "source": [
    "## Exercice 4\n",
    "\n",
    "Create a child class Bus that will inherit all of the variables and methods of the Vehicle class\n",
    "- Desired output:\n",
    "```Python\n",
    "#> Vehicle Name: School Volvo Speed: 180 Mileage: 12\n",
    "```"
   ]
  },
  {
   "cell_type": "code",
   "execution_count": 37,
   "metadata": {},
   "outputs": [
    {
     "name": "stdout",
     "output_type": "stream",
     "text": [
      "Vehicle Name :  School Volvo , Speed :  180 , Mileage :  12\n"
     ]
    }
   ],
   "source": [
    "class Vehicle:\n",
    "    def __init__(self, name, max_speed, mileage):\n",
    "        self.name = name\n",
    "        self.max_speed = max_speed\n",
    "        self.mileage = mileage\n",
    "class Bus(Vehicle):\n",
    "    pass\n",
    "School_Volvo = Bus(\"School Volvo\", 180, 12)\n",
    "print(\"Vehicle Name : \",School_Volvo.name,\", Speed : \",School_Volvo.max_speed,\", Mileage : \",School_bus.mileage)"
   ]
  },
  {
   "cell_type": "markdown",
   "metadata": {},
   "source": [
    "## Exercice 5 (Class Inheritance)\n",
    "\n",
    "- Input\n",
    "Create a Bus class that inherits from the Vehicle class. Give the capacity argument of `Bus.seating_capacity()` a default value of 50.\n",
    "\n",
    "Use the following code for your parent Vehicle class.\n",
    "```Python\n",
    "class Vehicle:\n",
    "    def __init__(self, name, max_speed, mileage):\n",
    "        self.name = name\n",
    "        self.max_speed = max_speed\n",
    "        self.mileage = mileage\n",
    "\n",
    "    def seating_capacity(self, capacity):\n",
    "        return f\"The seating capacity of a {self.name} is {capacity} passengers\"\n",
    "```\n",
    "- Desired output:\n",
    "```Python\n",
    "#> The seating capacity of a bus is 50 passengers\n",
    "```"
   ]
  },
  {
   "cell_type": "code",
   "execution_count": 26,
   "metadata": {},
   "outputs": [
    {
     "name": "stdout",
     "output_type": "stream",
     "text": [
      "The seating capacity of a bus is 50 passengers\n"
     ]
    }
   ],
   "source": [
    "class Vehicle:\n",
    "    def __init__(self, name, max_speed, mileage):\n",
    "        self.name = name\n",
    "        self.max_speed = max_speed\n",
    "        self.mileage = mileage\n",
    "\n",
    "    def seating_capacity(self, capacity):\n",
    "        return f\"The seating capacity of a {self.name} is {capacity} passengers\"\n",
    "class Bus(Vehicle):\n",
    "    def seating_capacity(self, capacity=50):\n",
    "        return super().seating_capacity(50)\n",
    "\n",
    "School_bus = Bus(\"bus\", 180, 12)\n",
    "print(School_bus.seating_capacity())"
   ]
  },
  {
   "cell_type": "markdown",
   "metadata": {},
   "source": [
    "## Exercice 6\n",
    "\n",
    "Define a property that must have the same value for every class instance (object)\n",
    "\n",
    "Define a class attribute `\"color\"` with a default value white. I.e., Every Vehicle should be white.\n",
    "\n",
    "Use the following code for this exercise.\n",
    "\n",
    "```Python\n",
    "class Vehicle:\n",
    "\n",
    "    def __init__(self, name, max_speed, mileage):\n",
    "        self.name = name\n",
    "        self.max_speed = max_speed\n",
    "        self.mileage = mileage\n",
    "\n",
    "class Bus(Vehicle):\n",
    "    pass\n",
    "\n",
    "class Car(Vehicle):\n",
    "    pass\n",
    "```\n",
    "- Desiret output:\n",
    "```Python\n",
    "#> Color: White, Vehicle name: School Volvo, Speed: 180, Mileage: 12\n",
    "#> Color: White, Vehicle name: Audi Q5, Speed: 240, Mileage: 18\n",
    "```                "
   ]
  },
  {
   "cell_type": "code",
   "execution_count": 22,
   "metadata": {},
   "outputs": [],
   "source": [
    "class Vehicle:\n",
    "    color = \"white\"\n",
    "    def __init__(self, name, max_speed, mileage):\n",
    "        self.name = name\n",
    "        self.max_speed = max_speed\n",
    "        self.mileage = mileage\n",
    "class Bus(Vehicle):\n",
    "    pass\n",
    "\n",
    "class Car(Vehicle):\n",
    "    pass\n"
   ]
  },
  {
   "cell_type": "code",
   "execution_count": 25,
   "metadata": {},
   "outputs": [
    {
     "name": "stdout",
     "output_type": "stream",
     "text": [
      "Color :  white , Vehicle name :  School Volvo , Speed :  180 , Mileage :  12\n",
      "Color :  white , Vehicle name :  Audi Q5 , Speed :  240 , Mileage :  18\n"
     ]
    }
   ],
   "source": [
    "Volvo = Bus(\"School Volvo\", 180, 12)\n",
    "Audi = Car(\"Audi Q5\", 240, 18)\n",
    "print(\"Color : \",Volvo.color, \", Vehicle name : \",Volvo.name, \", Speed : \", Volvo.max_speed, \", Mileage : \", Volvo.mileage)\n",
    "print(\"Color : \",Audi.color, \", Vehicle name : \", Audi.name, \", Speed : \", Audi.max_speed, \", Mileage : \", Audi.mileage)"
   ]
  },
  {
   "cell_type": "markdown",
   "metadata": {},
   "source": [
    "## Exercice 7  (Class Inheritance)\n",
    "- Input\n",
    "\n",
    "Create a Bus child class that inherits from the Vehicle class. The default fare charge of any vehicle is seating `capacity * 100`. If Vehicle is Bus instance, we need to add an extra 10% on full fare as a maintenance charge. So total fare for bus instance will become the `final amount = total fare + 10% of the total fare`.\n",
    "\n",
    "Note: The bus seating capacity is 50. so the final fare amount should be 5500. You need to override the fare() method of a Vehicle class in Bus class.\n",
    "\n",
    "Use the following code for your parent Vehicle class. We need to access the parent class from inside a method of a child class.\n",
    "```Python\n",
    "class Vehicle:\n",
    "    def __init__(self, name, mileage, capacity):\n",
    "        self.name = name\n",
    "        self.mileage = mileage\n",
    "        self.capacity = capacity\n",
    "\n",
    "    def fare(self):\n",
    "        return self.capacity * 100\n",
    "\n",
    "class Bus(Vehicle):\n",
    "    pass\n",
    "\n",
    "School_bus = Bus(\"School Volvo\", 12, 50)\n",
    "print(\"Total Bus fare is:\", School_bus.fare())\n",
    "```\n",
    "- Desired output:\n",
    "```Python\n",
    "#> Total Bus fare is: 5500.0\n",
    "```"
   ]
  },
  {
   "cell_type": "code",
   "execution_count": 18,
   "metadata": {},
   "outputs": [
    {
     "name": "stdout",
     "output_type": "stream",
     "text": [
      "Total Bus fare is: 5500.0\n"
     ]
    }
   ],
   "source": [
    "class Vehicle:\n",
    "    def __init__(self, name, mileage, capacity):\n",
    "        self.name = name\n",
    "        self.mileage = mileage\n",
    "        self.capacity = capacity\n",
    "\n",
    "    def fare(self):\n",
    "        return self.capacity * 100\n",
    "\n",
    "class Bus(Vehicle):\n",
    "    def fare(self):\n",
    "        return super().fare() + 0.1 * super().fare()\n",
    "School_bus = Bus(\"School Volvo\", 12, 50)\n",
    "print(\"Total Bus fare is:\", School_bus.fare())"
   ]
  },
  {
   "cell_type": "markdown",
   "metadata": {},
   "source": [
    "## Exercice 8  (Check type of an object)\n",
    "\n",
    "Write a program to determine which class a given Bus object belongs to.\n",
    "- Input\n",
    "```Python\n",
    "class Vehicle:\n",
    "    def __init__(self, name, mileage, capacity):\n",
    "        self.name = name\n",
    "        self.mileage = mileage\n",
    "        self.capacity = capacity\n",
    "```\n",
    "```Python\n",
    "class Bus(Vehicle):\n",
    "    pass\n",
    "School_bus = Bus(\"School Volvo\", 12, 50)\n",
    "```\n"
   ]
  },
  {
   "cell_type": "code",
   "execution_count": 20,
   "metadata": {},
   "outputs": [
    {
     "name": "stdout",
     "output_type": "stream",
     "text": [
      "<class '__main__.Bus'>\n"
     ]
    }
   ],
   "source": [
    "class Vehicle:\n",
    "    def __init__(self, name, mileage, capacity):\n",
    "        self.name = name\n",
    "        self.mileage = mileage\n",
    "        self.capacity = capacity\n",
    "class Bus(Vehicle):\n",
    "    pass\n",
    "School_bus = Bus(\"School Volvo\", 12, 50)\n",
    "print(type(School_bus))"
   ]
  }
 ],
 "metadata": {
  "hide_input": false,
  "kernelspec": {
   "display_name": "Python 3 (ipykernel)",
   "language": "python",
   "name": "python3"
  },
  "language_info": {
   "codemirror_mode": {
    "name": "ipython",
    "version": 3
   },
   "file_extension": ".py",
   "mimetype": "text/x-python",
   "name": "python",
   "nbconvert_exporter": "python",
   "pygments_lexer": "ipython3",
   "version": "3.9.12"
  }
 },
 "nbformat": 4,
 "nbformat_minor": 4
}
