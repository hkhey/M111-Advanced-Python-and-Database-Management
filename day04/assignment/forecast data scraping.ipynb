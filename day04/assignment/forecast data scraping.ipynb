{
 "cells": [
  {
   "cell_type": "markdown",
   "id": "3bf3292a",
   "metadata": {},
   "source": [
    "### Exercice:\n",
    "\n",
    "Scraping weather forecase from the The Weather Channel website `weather.com` using `requests` and `BeautifulSoup` libraries.\n",
    "\n",
    "1. Implement a scraping script for getting 10 days weather forecasts of Benguerir city and Tanger City.\n",
    "2. Store the data sets into Pandas DataFrame.\n",
    "3. Use matplotlib library to plot the raining days of the two cities in the same figure.  \n"
   ]
  },
  {
   "cell_type": "code",
   "execution_count": 11,
   "id": "d9a26cb7",
   "metadata": {},
   "outputs": [],
   "source": [
    "import requests\n",
    "from bs4 import BeautifulSoup\n",
    "\n",
    "#url of Benguerir 10 day weather \n",
    "page = requests.get(\"https://weather.com/weather/tenday/l/f37580e42d804f6d54467e56dd9f296e15fe9a25db53ddee63601416ecc06111\")\n",
    "# create an instance of the BeautifulSoup class to parse our document\n",
    "soup = BeautifulSoup(page.content, 'html.parser')\n",
    "#print out the HTML content of the page\n",
    "#print(soup.prettify())"
   ]
  },
  {
   "cell_type": "code",
   "execution_count": 12,
   "id": "62559bbe",
   "metadata": {},
   "outputs": [],
   "source": [
    "highTemp = soup.find_all(attrs={\"class\" : \"DetailsSummary--highTempValue--3PjlX\"})\n",
    "lowTemp = soup.find_all(attrs={\"class\" : \"DetailsSummary--lowTempValue--2tesQ\"})"
   ]
  },
  {
   "cell_type": "code",
   "execution_count": 13,
   "id": "f60441f5",
   "metadata": {},
   "outputs": [],
   "source": [
    "#Function to transform fahrenheit to celsius \n",
    "def celsius(x):\n",
    "    l = []\n",
    "    for i in range(1,len(x)):\n",
    "        l.append(round((int(x[i].string[:-1])-32)/1.8,0))\n",
    "    return l"
   ]
  },
  {
   "cell_type": "code",
   "execution_count": 14,
   "id": "1df98562",
   "metadata": {},
   "outputs": [],
   "source": [
    "high = celsius(highTemp)[0:10]\n",
    "low = celsius(lowTemp)[0:10]"
   ]
  },
  {
   "cell_type": "code",
   "execution_count": 15,
   "id": "2bd5744f",
   "metadata": {},
   "outputs": [
    {
     "data": {
      "text/plain": [
       "['Tue 03',\n",
       " 'Wed 04',\n",
       " 'Thu 05',\n",
       " 'Fri 06',\n",
       " 'Sat 07',\n",
       " 'Sun 08',\n",
       " 'Mon 09',\n",
       " 'Tue 10',\n",
       " 'Wed 11',\n",
       " 'Thu 12']"
      ]
     },
     "execution_count": 15,
     "metadata": {},
     "output_type": "execute_result"
    }
   ],
   "source": [
    "date = soup.find_all(attrs={\"class\" : \"DetailsSummary--daypartName--kbngc\"})\n",
    "dates = []\n",
    "for i in range(1,11):\n",
    "    dates.append(date[i].string[0:])\n",
    "dates"
   ]
  },
  {
   "cell_type": "code",
   "execution_count": 16,
   "id": "3d4e4a84",
   "metadata": {},
   "outputs": [
    {
     "data": {
      "text/plain": [
       "[10, 14, 12, 14, 14, 24, 12, 12, 6, 5]"
      ]
     },
     "execution_count": 16,
     "metadata": {},
     "output_type": "execute_result"
    }
   ],
   "source": [
    "Rain = soup.find_all(attrs={\"data-testid\" : \"Precip\"})\n",
    "S = BeautifulSoup(\"\\n\".join([str(x) for x in Rain]\n",
    "                           ), 'html.parser')\n",
    "Rain = S.find_all(attrs={\"data-testid\" : \"PercentageValue\"})\n",
    "Rains = []\n",
    "for i in range(1, 11):\n",
    "    Rains.append(int(Rain[i].string[:-1]))\n",
    "Rains"
   ]
  },
  {
   "cell_type": "code",
   "execution_count": 17,
   "id": "1bf08afb",
   "metadata": {},
   "outputs": [
    {
     "data": {
      "text/html": [
       "<div>\n",
       "<style scoped>\n",
       "    .dataframe tbody tr th:only-of-type {\n",
       "        vertical-align: middle;\n",
       "    }\n",
       "\n",
       "    .dataframe tbody tr th {\n",
       "        vertical-align: top;\n",
       "    }\n",
       "\n",
       "    .dataframe thead th {\n",
       "        text-align: right;\n",
       "    }\n",
       "</style>\n",
       "<table border=\"1\" class=\"dataframe\">\n",
       "  <thead>\n",
       "    <tr style=\"text-align: right;\">\n",
       "      <th></th>\n",
       "      <th>Days</th>\n",
       "      <th>High temperature (Celsius)</th>\n",
       "      <th>Low temperature (Celsius)</th>\n",
       "      <th>Rain Percentage</th>\n",
       "    </tr>\n",
       "  </thead>\n",
       "  <tbody>\n",
       "    <tr>\n",
       "      <th>0</th>\n",
       "      <td>Tue 03</td>\n",
       "      <td>21.0</td>\n",
       "      <td>6.0</td>\n",
       "      <td>10</td>\n",
       "    </tr>\n",
       "    <tr>\n",
       "      <th>1</th>\n",
       "      <td>Wed 04</td>\n",
       "      <td>21.0</td>\n",
       "      <td>6.0</td>\n",
       "      <td>14</td>\n",
       "    </tr>\n",
       "    <tr>\n",
       "      <th>2</th>\n",
       "      <td>Thu 05</td>\n",
       "      <td>22.0</td>\n",
       "      <td>6.0</td>\n",
       "      <td>12</td>\n",
       "    </tr>\n",
       "    <tr>\n",
       "      <th>3</th>\n",
       "      <td>Fri 06</td>\n",
       "      <td>21.0</td>\n",
       "      <td>7.0</td>\n",
       "      <td>14</td>\n",
       "    </tr>\n",
       "    <tr>\n",
       "      <th>4</th>\n",
       "      <td>Sat 07</td>\n",
       "      <td>20.0</td>\n",
       "      <td>6.0</td>\n",
       "      <td>14</td>\n",
       "    </tr>\n",
       "    <tr>\n",
       "      <th>5</th>\n",
       "      <td>Sun 08</td>\n",
       "      <td>20.0</td>\n",
       "      <td>7.0</td>\n",
       "      <td>24</td>\n",
       "    </tr>\n",
       "    <tr>\n",
       "      <th>6</th>\n",
       "      <td>Mon 09</td>\n",
       "      <td>21.0</td>\n",
       "      <td>6.0</td>\n",
       "      <td>12</td>\n",
       "    </tr>\n",
       "    <tr>\n",
       "      <th>7</th>\n",
       "      <td>Tue 10</td>\n",
       "      <td>22.0</td>\n",
       "      <td>7.0</td>\n",
       "      <td>12</td>\n",
       "    </tr>\n",
       "    <tr>\n",
       "      <th>8</th>\n",
       "      <td>Wed 11</td>\n",
       "      <td>22.0</td>\n",
       "      <td>7.0</td>\n",
       "      <td>6</td>\n",
       "    </tr>\n",
       "    <tr>\n",
       "      <th>9</th>\n",
       "      <td>Thu 12</td>\n",
       "      <td>22.0</td>\n",
       "      <td>6.0</td>\n",
       "      <td>5</td>\n",
       "    </tr>\n",
       "  </tbody>\n",
       "</table>\n",
       "</div>"
      ],
      "text/plain": [
       "     Days  High temperature (Celsius)  Low temperature (Celsius)  \\\n",
       "0  Tue 03                        21.0                        6.0   \n",
       "1  Wed 04                        21.0                        6.0   \n",
       "2  Thu 05                        22.0                        6.0   \n",
       "3  Fri 06                        21.0                        7.0   \n",
       "4  Sat 07                        20.0                        6.0   \n",
       "5  Sun 08                        20.0                        7.0   \n",
       "6  Mon 09                        21.0                        6.0   \n",
       "7  Tue 10                        22.0                        7.0   \n",
       "8  Wed 11                        22.0                        7.0   \n",
       "9  Thu 12                        22.0                        6.0   \n",
       "\n",
       "   Rain Percentage  \n",
       "0               10  \n",
       "1               14  \n",
       "2               12  \n",
       "3               14  \n",
       "4               14  \n",
       "5               24  \n",
       "6               12  \n",
       "7               12  \n",
       "8                6  \n",
       "9                5  "
      ]
     },
     "execution_count": 17,
     "metadata": {},
     "output_type": "execute_result"
    }
   ],
   "source": [
    "import pandas as pd\n",
    "Benguerir = pd.DataFrame({\"Days\":dates, \"High temperature (Celsius)\":high,\"Low temperature (Celsius)\":low,\n",
    "                   \"Rain Percentage\": Rains})\n",
    "Benguerir"
   ]
  },
  {
   "cell_type": "code",
   "execution_count": 18,
   "id": "9154026c",
   "metadata": {},
   "outputs": [
    {
     "data": {
      "text/plain": [
       "[14, 12, 8, 12, 54, 80, 71, 43, 24, 14]"
      ]
     },
     "execution_count": 18,
     "metadata": {},
     "output_type": "execute_result"
    }
   ],
   "source": [
    "#url of Tangier 10 day weather \n",
    "page = requests.get(\"https://weather.com/weather/tenday/l/701d5f2dd2a2b8cabcc505d69649a291257de6c1369a982396ea546ccb99198c\")\n",
    "# create an instance of the BeautifulSoup class to parse our document\n",
    "soup = BeautifulSoup(page.content, 'html.parser')\n",
    "highTemp = soup.find_all(attrs={\"class\" : \"DetailsSummary--highTempValue--3PjlX\"})\n",
    "lowTemp = soup.find_all(attrs={\"class\" : \"DetailsSummary--lowTempValue--2tesQ\"})\n",
    "hight = celsius(highTemp)[0:10]\n",
    "lowt = celsius(lowTemp)[0:10]\n",
    "date = soup.find_all(attrs={\"class\" : \"DetailsSummary--daypartName--kbngc\"})\n",
    "dates = []\n",
    "for i in range(1,11):\n",
    "    dates.append(date[i].string[0:])\n",
    "dates\n",
    "Rain = soup.find_all(attrs={\"data-testid\" : \"Precip\"})\n",
    "S = BeautifulSoup(\"\\n\".join([str(x) for x in Rain]\n",
    "                           ), 'html.parser')\n",
    "Rain = S.find_all(attrs={\"data-testid\" : \"PercentageValue\"})\n",
    "Rainst = []\n",
    "for i in range(1, 11):\n",
    "    Rainst.append(int(Rain[i].string[:-1]))\n",
    "Rainst"
   ]
  },
  {
   "cell_type": "code",
   "execution_count": 19,
   "id": "3fd03722",
   "metadata": {},
   "outputs": [],
   "source": [
    "import pandas as pd\n",
    "Tangier = pd.DataFrame({\"Days\":dates,\"High temperature (Celsius)\":hight,\"Low temperature (Celsius)\":lowt,\n",
    "                   \"Rain Percentage\": Rainst})"
   ]
  },
  {
   "cell_type": "code",
   "execution_count": 20,
   "id": "ed8410de",
   "metadata": {},
   "outputs": [
    {
     "data": {
      "image/png": "[encoded data removed]",
      "text/plain": [
       "<Figure size 864x576 with 1 Axes>"
      ]
     },
     "metadata": {
      "needs_background": "light"
     },
     "output_type": "display_data"
    }
   ],
   "source": [
    "import numpy as np\n",
    "import matplotlib.pyplot as plt\n",
    " \n",
    "# set width of bar\n",
    "barWidth = 0.25\n",
    "fig = plt.subplots(figsize =(12, 8))\n",
    " \n",
    "# set height of bar\n",
    "bg = list(Benguerir[\"Rain Percentage\"])\n",
    "tg = list(Tangier[\"Rain Percentage\"])\n",
    "\n",
    "# Set position of bar on X axis\n",
    "br1 = np.arange(len(bg))\n",
    "br2 = [x + barWidth for x in br1]\n",
    " \n",
    "# Make the plot\n",
    "plt.bar(br1, bg, color ='plum', width = barWidth,\n",
    "        edgecolor ='grey', label ='Benguerir')\n",
    "plt.bar(br2, tg, color ='lavender', width = barWidth,\n",
    "        edgecolor ='grey', label ='Tangier')\n",
    " \n",
    "# Adding Xticks\n",
    "plt.xlabel('Days', fontweight ='bold', fontsize = 15)\n",
    "plt.ylabel('Rain Percentage', fontweight ='bold', fontsize = 15)\n",
    "plt.xticks([r + barWidth for r in range(len(bg))],\n",
    "        list(Tangier[\"Days\"]))\n",
    " \n",
    "plt.legend()\n",
    "plt.show()"
   ]
  },
  {
   "cell_type": "code",
   "execution_count": null,
   "id": "7dd3f4b5",
   "metadata": {},
   "outputs": [],
   "source": []
  },
  {
   "cell_type": "code",
   "execution_count": null,
   "id": "43818b29",
   "metadata": {},
   "outputs": [],
   "source": []
  }
 ],
 "metadata": {
  "kernelspec": {
   "display_name": "Python 3 (ipykernel)",
   "language": "python",
   "name": "python3"
  },
  "language_info": {
   "codemirror_mode": {
    "name": "ipython",
    "version": 3
   },
   "file_extension": ".py",
   "mimetype": "text/x-python",
   "name": "python",
   "nbconvert_exporter": "python",
   "pygments_lexer": "ipython3",
   "version": "3.9.12"
  }
 },
 "nbformat": 4,
 "nbformat_minor": 5
}
